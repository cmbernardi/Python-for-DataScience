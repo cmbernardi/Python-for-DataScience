{
 "cells": [
  {
   "cell_type": "markdown",
   "id": "551e41e1",
   "metadata": {
    "papermill": {
     "duration": 0.026666,
     "end_time": "2021-07-21T17:37:27.520468",
     "exception": false,
     "start_time": "2021-07-21T17:37:27.493802",
     "status": "completed"
    },
    "tags": []
   },
   "source": [
    "# Python Basics - Template"
   ]
  },
  {
   "cell_type": "markdown",
   "id": "a7c079c8",
   "metadata": {
    "papermill": {
     "duration": 0.025282,
     "end_time": "2021-07-21T17:37:27.572063",
     "exception": false,
     "start_time": "2021-07-21T17:37:27.546781",
     "status": "completed"
    },
    "tags": []
   },
   "source": [
    "## Asking for Help"
   ]
  },
  {
   "cell_type": "code",
   "execution_count": 1,
   "id": "f916acd3",
   "metadata": {
    "execution": {
     "iopub.execute_input": "2021-07-21T17:37:27.627658Z",
     "iopub.status.busy": "2021-07-21T17:37:27.626450Z",
     "iopub.status.idle": "2021-07-21T17:37:27.630232Z",
     "shell.execute_reply": "2021-07-21T17:37:27.630701Z",
     "shell.execute_reply.started": "2021-07-21T17:36:45.303139Z"
    },
    "papermill": {
     "duration": 0.033338,
     "end_time": "2021-07-21T17:37:27.630978",
     "exception": false,
     "start_time": "2021-07-21T17:37:27.597640",
     "status": "completed"
    },
    "tags": []
   },
   "outputs": [],
   "source": [
    "#help(str)"
   ]
  },
  {
   "cell_type": "markdown",
   "id": "90b41b7e",
   "metadata": {
    "papermill": {
     "duration": 0.02507,
     "end_time": "2021-07-21T17:37:27.681749",
     "exception": false,
     "start_time": "2021-07-21T17:37:27.656679",
     "status": "completed"
    },
    "tags": []
   },
   "source": [
    "## Variables and Data Types"
   ]
  },
  {
   "cell_type": "markdown",
   "id": "668652a3",
   "metadata": {
    "papermill": {
     "duration": 0.025064,
     "end_time": "2021-07-21T17:37:27.732344",
     "exception": false,
     "start_time": "2021-07-21T17:37:27.707280",
     "status": "completed"
    },
    "tags": []
   },
   "source": [
    "- **Calculations with Variables**"
   ]
  },
  {
   "cell_type": "code",
   "execution_count": 2,
   "id": "957b57cc",
   "metadata": {
    "execution": {
     "iopub.execute_input": "2021-07-21T17:37:27.788474Z",
     "iopub.status.busy": "2021-07-21T17:37:27.787804Z",
     "iopub.status.idle": "2021-07-21T17:37:27.801715Z",
     "shell.execute_reply": "2021-07-21T17:37:27.800910Z",
     "shell.execute_reply.started": "2021-07-21T17:36:45.311092Z"
    },
    "papermill": {
     "duration": 0.044054,
     "end_time": "2021-07-21T17:37:27.801866",
     "exception": false,
     "start_time": "2021-07-21T17:37:27.757812",
     "status": "completed"
    },
    "tags": []
   },
   "outputs": [],
   "source": [
    "# assignment\n",
    "x = 5\n",
    "\n",
    "# Sum\n",
    "x+2\n",
    "\n",
    "# Subtraction \n",
    "x-2\n",
    "\n",
    "# Multiplication \n",
    "x*2\n",
    "\n",
    "# Exponentiation\n",
    "x**2\n",
    "\n",
    "# Remainder\n",
    "x%2\n",
    "\n",
    "# Division\n",
    "x/float(2);"
   ]
  },
  {
   "cell_type": "markdown",
   "id": "52914125",
   "metadata": {
    "papermill": {
     "duration": 0.025236,
     "end_time": "2021-07-21T17:37:27.852958",
     "exception": false,
     "start_time": "2021-07-21T17:37:27.827722",
     "status": "completed"
    },
    "tags": []
   },
   "source": [
    "- **Types and Type Conversion**"
   ]
  },
  {
   "cell_type": "code",
   "execution_count": 3,
   "id": "30907a6f",
   "metadata": {
    "execution": {
     "iopub.execute_input": "2021-07-21T17:37:27.910410Z",
     "iopub.status.busy": "2021-07-21T17:37:27.909343Z",
     "iopub.status.idle": "2021-07-21T17:37:27.912381Z",
     "shell.execute_reply": "2021-07-21T17:37:27.911870Z",
     "shell.execute_reply.started": "2021-07-21T17:36:45.325620Z"
    },
    "papermill": {
     "duration": 0.034189,
     "end_time": "2021-07-21T17:37:27.912570",
     "exception": false,
     "start_time": "2021-07-21T17:37:27.878381",
     "status": "completed"
    },
    "tags": []
   },
   "outputs": [],
   "source": [
    "# Variables to strings\n",
    "str()\n",
    "\n",
    "# Variables to integers\n",
    "int()\n",
    "\n",
    "# Variables to floats\n",
    "float()\n",
    "\n",
    "# Variables to booleans\n",
    "bool();"
   ]
  },
  {
   "cell_type": "markdown",
   "id": "e15180a7",
   "metadata": {
    "papermill": {
     "duration": 0.025404,
     "end_time": "2021-07-21T17:37:27.964150",
     "exception": false,
     "start_time": "2021-07-21T17:37:27.938746",
     "status": "completed"
    },
    "tags": []
   },
   "source": [
    "## Strings"
   ]
  },
  {
   "cell_type": "code",
   "execution_count": 4,
   "id": "ea823657",
   "metadata": {
    "execution": {
     "iopub.execute_input": "2021-07-21T17:37:28.021970Z",
     "iopub.status.busy": "2021-07-21T17:37:28.020918Z",
     "iopub.status.idle": "2021-07-21T17:37:28.024275Z",
     "shell.execute_reply": "2021-07-21T17:37:28.023683Z",
     "shell.execute_reply.started": "2021-07-21T17:36:45.340783Z"
    },
    "papermill": {
     "duration": 0.034324,
     "end_time": "2021-07-21T17:37:28.024430",
     "exception": false,
     "start_time": "2021-07-21T17:37:27.990106",
     "status": "completed"
    },
    "tags": []
   },
   "outputs": [],
   "source": [
    "my_string = 'thisStringIsAwesome'"
   ]
  },
  {
   "cell_type": "markdown",
   "id": "86eec61e",
   "metadata": {
    "papermill": {
     "duration": 0.027463,
     "end_time": "2021-07-21T17:37:28.077883",
     "exception": false,
     "start_time": "2021-07-21T17:37:28.050420",
     "status": "completed"
    },
    "tags": []
   },
   "source": [
    "- **String Operations**"
   ]
  },
  {
   "cell_type": "code",
   "execution_count": 5,
   "id": "da682b77",
   "metadata": {
    "execution": {
     "iopub.execute_input": "2021-07-21T17:37:28.135902Z",
     "iopub.status.busy": "2021-07-21T17:37:28.134893Z",
     "iopub.status.idle": "2021-07-21T17:37:28.139728Z",
     "shell.execute_reply": "2021-07-21T17:37:28.140289Z",
     "shell.execute_reply.started": "2021-07-21T17:36:45.354398Z"
    },
    "papermill": {
     "duration": 0.036374,
     "end_time": "2021-07-21T17:37:28.140510",
     "exception": false,
     "start_time": "2021-07-21T17:37:28.104136",
     "status": "completed"
    },
    "tags": []
   },
   "outputs": [],
   "source": [
    "my_string * 2\n",
    "'thisStringIsAwesomethisStringIsAwesome'\n",
    "\n",
    "my_string + 'Innit'\n",
    "'thisStringIsAwesomeInnit'\n",
    "\n",
    "'m' in my_string\n",
    "'True';"
   ]
  },
  {
   "cell_type": "markdown",
   "id": "5b66183c",
   "metadata": {
    "papermill": {
     "duration": 0.025942,
     "end_time": "2021-07-21T17:37:28.193029",
     "exception": false,
     "start_time": "2021-07-21T17:37:28.167087",
     "status": "completed"
    },
    "tags": []
   },
   "source": [
    "- **Selecting String Characters**"
   ]
  },
  {
   "cell_type": "code",
   "execution_count": 6,
   "id": "eda0e15e",
   "metadata": {
    "execution": {
     "iopub.execute_input": "2021-07-21T17:37:28.249349Z",
     "iopub.status.busy": "2021-07-21T17:37:28.248256Z",
     "iopub.status.idle": "2021-07-21T17:37:28.257130Z",
     "shell.execute_reply": "2021-07-21T17:37:28.257774Z",
     "shell.execute_reply.started": "2021-07-21T17:36:45.370113Z"
    },
    "papermill": {
     "duration": 0.038949,
     "end_time": "2021-07-21T17:37:28.257990",
     "exception": false,
     "start_time": "2021-07-21T17:37:28.219041",
     "status": "completed"
    },
    "tags": []
   },
   "outputs": [
    {
     "data": {
      "text/plain": [
       "'Strin'"
      ]
     },
     "execution_count": 6,
     "metadata": {},
     "output_type": "execute_result"
    }
   ],
   "source": [
    "my_string[3]\n",
    "my_string[4:9]"
   ]
  },
  {
   "cell_type": "markdown",
   "id": "a5aee7f8",
   "metadata": {
    "papermill": {
     "duration": 0.026175,
     "end_time": "2021-07-21T17:37:28.311412",
     "exception": false,
     "start_time": "2021-07-21T17:37:28.285237",
     "status": "completed"
    },
    "tags": []
   },
   "source": [
    "- **String Methods**"
   ]
  },
  {
   "cell_type": "code",
   "execution_count": 7,
   "id": "4033fc28",
   "metadata": {
    "execution": {
     "iopub.execute_input": "2021-07-21T17:37:28.369722Z",
     "iopub.status.busy": "2021-07-21T17:37:28.368681Z",
     "iopub.status.idle": "2021-07-21T17:37:28.375349Z",
     "shell.execute_reply": "2021-07-21T17:37:28.374793Z",
     "shell.execute_reply.started": "2021-07-21T17:36:45.389100Z"
    },
    "papermill": {
     "duration": 0.036904,
     "end_time": "2021-07-21T17:37:28.375530",
     "exception": false,
     "start_time": "2021-07-21T17:37:28.338626",
     "status": "completed"
    },
    "tags": []
   },
   "outputs": [],
   "source": [
    "# String to uppercase\n",
    "my_string.upper()\n",
    "\n",
    "# String to lowercase\n",
    "my_string.lower()\n",
    "\n",
    "# Count String elements\n",
    "my_string.count('w')\n",
    "\n",
    "# Replace String elements\n",
    "my_string.replace('e', 'i')\n",
    "\n",
    "# Strip whitespace from ends\n",
    "my_string.strip();"
   ]
  },
  {
   "cell_type": "markdown",
   "id": "eaf865d4",
   "metadata": {
    "papermill": {
     "duration": 0.026552,
     "end_time": "2021-07-21T17:37:28.429138",
     "exception": false,
     "start_time": "2021-07-21T17:37:28.402586",
     "status": "completed"
    },
    "tags": []
   },
   "source": [
    "## Lists"
   ]
  },
  {
   "cell_type": "code",
   "execution_count": 8,
   "id": "58808bc7",
   "metadata": {
    "execution": {
     "iopub.execute_input": "2021-07-21T17:37:28.488069Z",
     "iopub.status.busy": "2021-07-21T17:37:28.487372Z",
     "iopub.status.idle": "2021-07-21T17:37:28.489390Z",
     "shell.execute_reply": "2021-07-21T17:37:28.489857Z",
     "shell.execute_reply.started": "2021-07-21T17:36:45.405677Z"
    },
    "papermill": {
     "duration": 0.034487,
     "end_time": "2021-07-21T17:37:28.490079",
     "exception": false,
     "start_time": "2021-07-21T17:37:28.455592",
     "status": "completed"
    },
    "tags": []
   },
   "outputs": [],
   "source": [
    "a = 'is'\n",
    "b = 'nice'\n",
    "my_list = ['my', 'list', a, b]\n",
    "my_list2 = [[4,5,6,7], [3,4,5,6]]"
   ]
  },
  {
   "cell_type": "markdown",
   "id": "cd0dbd12",
   "metadata": {
    "papermill": {
     "duration": 0.025832,
     "end_time": "2021-07-21T17:37:28.542148",
     "exception": false,
     "start_time": "2021-07-21T17:37:28.516316",
     "status": "completed"
    },
    "tags": []
   },
   "source": [
    "- **Selecting List Elements**"
   ]
  },
  {
   "cell_type": "code",
   "execution_count": 9,
   "id": "da63b33f",
   "metadata": {
    "execution": {
     "iopub.execute_input": "2021-07-21T17:37:28.601570Z",
     "iopub.status.busy": "2021-07-21T17:37:28.600700Z",
     "iopub.status.idle": "2021-07-21T17:37:28.603569Z",
     "shell.execute_reply": "2021-07-21T17:37:28.604095Z",
     "shell.execute_reply.started": "2021-07-21T17:36:45.418976Z"
    },
    "papermill": {
     "duration": 0.036068,
     "end_time": "2021-07-21T17:37:28.604289",
     "exception": false,
     "start_time": "2021-07-21T17:37:28.568221",
     "status": "completed"
    },
    "tags": []
   },
   "outputs": [
    {
     "data": {
      "text/plain": [
       "3"
      ]
     },
     "execution_count": 9,
     "metadata": {},
     "output_type": "execute_result"
    }
   ],
   "source": [
    "# Select item at index 1\n",
    "my_list[1]\n",
    "\n",
    "# Select 3rd last item\n",
    "my_list[-3]\n",
    "\n",
    "# Select items at index 1 and 2\n",
    "my_list[1:3]\n",
    "\n",
    "# Select items after index 0\n",
    "my_list[1:]\n",
    "\n",
    "# Select items before index 3\n",
    "my_list[:3]\n",
    "\n",
    "# Copy my_list\n",
    "my_list[:]\n",
    "\n",
    "# Subsets: my_list[list][itemOfList]\n",
    "my_list2[1][0]"
   ]
  },
  {
   "cell_type": "markdown",
   "id": "73f8a446",
   "metadata": {
    "papermill": {
     "duration": 0.026478,
     "end_time": "2021-07-21T17:37:28.657365",
     "exception": false,
     "start_time": "2021-07-21T17:37:28.630887",
     "status": "completed"
    },
    "tags": []
   },
   "source": [
    "- **Lists Operations**"
   ]
  },
  {
   "cell_type": "code",
   "execution_count": 10,
   "id": "3c7ef9c7",
   "metadata": {
    "execution": {
     "iopub.execute_input": "2021-07-21T17:37:28.714849Z",
     "iopub.status.busy": "2021-07-21T17:37:28.714170Z",
     "iopub.status.idle": "2021-07-21T17:37:28.718740Z",
     "shell.execute_reply": "2021-07-21T17:37:28.719214Z",
     "shell.execute_reply.started": "2021-07-21T17:36:45.435525Z"
    },
    "papermill": {
     "duration": 0.035164,
     "end_time": "2021-07-21T17:37:28.719426",
     "exception": false,
     "start_time": "2021-07-21T17:37:28.684262",
     "status": "completed"
    },
    "tags": []
   },
   "outputs": [],
   "source": [
    "my_list + my_list\n",
    "['my', 'list', 'is', 'nice', 'my', 'list', 'is', 'nice']\n",
    "\n",
    "my_list * 2\n",
    "['my', 'list', 'is', 'nice', 'my', 'list', 'is', 'nice'];"
   ]
  },
  {
   "cell_type": "markdown",
   "id": "243a2ff2",
   "metadata": {
    "papermill": {
     "duration": 0.026125,
     "end_time": "2021-07-21T17:37:28.773012",
     "exception": false,
     "start_time": "2021-07-21T17:37:28.746887",
     "status": "completed"
    },
    "tags": []
   },
   "source": [
    "- **List Methods**"
   ]
  },
  {
   "cell_type": "code",
   "execution_count": 11,
   "id": "05fbbab3",
   "metadata": {
    "execution": {
     "iopub.execute_input": "2021-07-21T17:37:28.832539Z",
     "iopub.status.busy": "2021-07-21T17:37:28.831826Z",
     "iopub.status.idle": "2021-07-21T17:37:28.837177Z",
     "shell.execute_reply": "2021-07-21T17:37:28.837716Z",
     "shell.execute_reply.started": "2021-07-21T17:36:45.448536Z"
    },
    "papermill": {
     "duration": 0.036735,
     "end_time": "2021-07-21T17:37:28.837945",
     "exception": false,
     "start_time": "2021-07-21T17:37:28.801210",
     "status": "completed"
    },
    "tags": []
   },
   "outputs": [],
   "source": [
    "# Get the index of an item\n",
    "my_list.index(a)\n",
    "\n",
    "# Count an item\n",
    "my_list.count(a)\n",
    "\n",
    "# Append an item at a time\n",
    "my_list.append('!')\n",
    "\n",
    "# Remove an item\n",
    "my_list.remove('!')\n",
    "\n",
    "# Remove an item\n",
    "del(my_list[0:1])\n",
    "\n",
    "# Reverse the list\n",
    "my_list.reverse()\n",
    "\n",
    "# Append an item\n",
    "my_list.extend('!')\n",
    "\n",
    "# Remove an item\n",
    "my_list.pop(-1)\n",
    "\n",
    "# Insert an item\n",
    "my_list.insert(0,'!')\n",
    "\n",
    "# Lenght of a list\n",
    "len(my_list)\n",
    "\n",
    "# Sort the list\n",
    "my_list.sort();"
   ]
  },
  {
   "cell_type": "markdown",
   "id": "c766727e",
   "metadata": {
    "papermill": {
     "duration": 0.027107,
     "end_time": "2021-07-21T17:37:28.893009",
     "exception": false,
     "start_time": "2021-07-21T17:37:28.865902",
     "status": "completed"
    },
    "tags": []
   },
   "source": [
    "- **List Comprehension**\n",
    "\n",
    "(Creates a list from another list based on a given condition)"
   ]
  },
  {
   "cell_type": "code",
   "execution_count": 12,
   "id": "a7c7297e",
   "metadata": {
    "execution": {
     "iopub.execute_input": "2021-07-21T17:37:28.950919Z",
     "iopub.status.busy": "2021-07-21T17:37:28.950170Z",
     "iopub.status.idle": "2021-07-21T17:37:28.955752Z",
     "shell.execute_reply": "2021-07-21T17:37:28.956212Z",
     "shell.execute_reply.started": "2021-07-21T17:36:45.466956Z"
    },
    "papermill": {
     "duration": 0.036163,
     "end_time": "2021-07-21T17:37:28.956460",
     "exception": false,
     "start_time": "2021-07-21T17:37:28.920297",
     "status": "completed"
    },
    "tags": []
   },
   "outputs": [
    {
     "data": {
      "text/plain": [
       "[6, 7]"
      ]
     },
     "execution_count": 12,
     "metadata": {},
     "output_type": "execute_result"
    }
   ],
   "source": [
    "a = [4,6,7,3,2]\n",
    "b = [x for x in a if x > 5]\n",
    "b"
   ]
  },
  {
   "cell_type": "code",
   "execution_count": 13,
   "id": "923c4099",
   "metadata": {
    "execution": {
     "iopub.execute_input": "2021-07-21T17:37:29.014950Z",
     "iopub.status.busy": "2021-07-21T17:37:29.014206Z",
     "iopub.status.idle": "2021-07-21T17:37:29.019395Z",
     "shell.execute_reply": "2021-07-21T17:37:29.019954Z",
     "shell.execute_reply.started": "2021-07-21T17:36:45.482942Z"
    },
    "papermill": {
     "duration": 0.036411,
     "end_time": "2021-07-21T17:37:29.020181",
     "exception": false,
     "start_time": "2021-07-21T17:37:28.983770",
     "status": "completed"
    },
    "tags": []
   },
   "outputs": [
    {
     "data": {
      "text/plain": [
       "[4, 7, 7, 8]"
      ]
     },
     "execution_count": 13,
     "metadata": {},
     "output_type": "execute_result"
    }
   ],
   "source": [
    "words = ['data','science','machine','learning']\n",
    "b = [len(word) for word in words]\n",
    "b"
   ]
  },
  {
   "cell_type": "markdown",
   "id": "5392376b",
   "metadata": {
    "papermill": {
     "duration": 0.027729,
     "end_time": "2021-07-21T17:37:29.075704",
     "exception": false,
     "start_time": "2021-07-21T17:37:29.047975",
     "status": "completed"
    },
    "tags": []
   },
   "source": [
    "## Dictionaries"
   ]
  },
  {
   "cell_type": "code",
   "execution_count": 14,
   "id": "71389b71",
   "metadata": {
    "execution": {
     "iopub.execute_input": "2021-07-21T17:37:29.134249Z",
     "iopub.status.busy": "2021-07-21T17:37:29.133598Z",
     "iopub.status.idle": "2021-07-21T17:37:29.139603Z",
     "shell.execute_reply": "2021-07-21T17:37:29.138872Z",
     "shell.execute_reply.started": "2021-07-21T17:36:45.496476Z"
    },
    "papermill": {
     "duration": 0.03662,
     "end_time": "2021-07-21T17:37:29.139769",
     "exception": false,
     "start_time": "2021-07-21T17:37:29.103149",
     "status": "completed"
    },
    "tags": []
   },
   "outputs": [],
   "source": [
    "# Create a dictionary\n",
    "grades = {'John':'A', 'Emily':'A+', 'Betty':'B', 'Mike':'C', 'Ashley':'A'}\n",
    "\n",
    "# Access a value using its key\n",
    "grades['John']\n",
    "'A'\n",
    "grades.get('Betty')\n",
    "'B';"
   ]
  },
  {
   "cell_type": "markdown",
   "id": "12072c2e",
   "metadata": {
    "papermill": {
     "duration": 0.027298,
     "end_time": "2021-07-21T17:37:29.194434",
     "exception": false,
     "start_time": "2021-07-21T17:37:29.167136",
     "status": "completed"
    },
    "tags": []
   },
   "source": [
    "## Lambda Expressions"
   ]
  },
  {
   "cell_type": "code",
   "execution_count": 15,
   "id": "68467d6f",
   "metadata": {
    "execution": {
     "iopub.execute_input": "2021-07-21T17:37:29.255854Z",
     "iopub.status.busy": "2021-07-21T17:37:29.255059Z",
     "iopub.status.idle": "2021-07-21T17:37:29.256446Z",
     "shell.execute_reply": "2021-07-21T17:37:29.257085Z",
     "shell.execute_reply.started": "2021-07-21T17:36:45.510775Z"
    },
    "papermill": {
     "duration": 0.035055,
     "end_time": "2021-07-21T17:37:29.257285",
     "exception": false,
     "start_time": "2021-07-21T17:37:29.222230",
     "status": "completed"
    },
    "tags": []
   },
   "outputs": [],
   "source": [
    "# Consider this function\n",
    "def square(x):\n",
    "    return x**2\n",
    "\n",
    "# Equivalent lambda expression\n",
    "lambda x: x**2;"
   ]
  },
  {
   "cell_type": "markdown",
   "id": "03e3e73c",
   "metadata": {
    "papermill": {
     "duration": 0.027724,
     "end_time": "2021-07-21T17:37:29.313576",
     "exception": false,
     "start_time": "2021-07-21T17:37:29.285852",
     "status": "completed"
    },
    "tags": []
   },
   "source": [
    "## Classes\n",
    "\n",
    "*Reference* - https://towardsdatascience.com/a-comprehensive-guide-for-classes-in-python-e6bb72a25a5e\n",
    "\n",
    "**Classes possess the following information:**\n",
    "- Data attributes: What is needed to create an instance of a class\n",
    "- Methods (i.e. procedural attributes): How we interact with instances of a class.\n",
    "- Class variables are declared inside a class but outside of any function. \n",
    "- Instance variables are declared inside the constructor which is the __init__ method.\n"
   ]
  },
  {
   "cell_type": "markdown",
   "id": "53e90f5a",
   "metadata": {
    "papermill": {
     "duration": 0.02729,
     "end_time": "2021-07-21T17:37:29.369022",
     "exception": false,
     "start_time": "2021-07-21T17:37:29.341732",
     "status": "completed"
    },
    "tags": []
   },
   "source": [
    "- **Creating a Class**"
   ]
  },
  {
   "cell_type": "code",
   "execution_count": 16,
   "id": "96def234",
   "metadata": {
    "execution": {
     "iopub.execute_input": "2021-07-21T17:37:29.428459Z",
     "iopub.status.busy": "2021-07-21T17:37:29.427760Z",
     "iopub.status.idle": "2021-07-21T17:37:29.431904Z",
     "shell.execute_reply": "2021-07-21T17:37:29.432419Z",
     "shell.execute_reply.started": "2021-07-21T17:36:45.527615Z"
    },
    "papermill": {
     "duration": 0.035615,
     "end_time": "2021-07-21T17:37:29.432662",
     "exception": false,
     "start_time": "2021-07-21T17:37:29.397047",
     "status": "completed"
    },
    "tags": []
   },
   "outputs": [],
   "source": [
    "class Book():\n",
    "    def __init__(self, name, writer, word_length):\n",
    "        self.name = name\n",
    "        self.writer = writer\n",
    "        self.word_length = word_length"
   ]
  },
  {
   "cell_type": "markdown",
   "id": "0948532e",
   "metadata": {
    "papermill": {
     "duration": 0.028241,
     "end_time": "2021-07-21T17:37:29.488134",
     "exception": false,
     "start_time": "2021-07-21T17:37:29.459893",
     "status": "completed"
    },
    "tags": []
   },
   "source": [
    "The __init__ is a special function that is automatically executed when an instance of class is created.\n",
    "\n",
    "The parameters of the init function represent the data attributes of a class. "
   ]
  },
  {
   "cell_type": "markdown",
   "id": "11f8994c",
   "metadata": {
    "papermill": {
     "duration": 0.026867,
     "end_time": "2021-07-21T17:37:29.542637",
     "exception": false,
     "start_time": "2021-07-21T17:37:29.515770",
     "status": "completed"
    },
    "tags": []
   },
   "source": [
    "- **Creating an Instance**"
   ]
  },
  {
   "cell_type": "code",
   "execution_count": 17,
   "id": "8ce09b1a",
   "metadata": {
    "execution": {
     "iopub.execute_input": "2021-07-21T17:37:29.600758Z",
     "iopub.status.busy": "2021-07-21T17:37:29.600066Z",
     "iopub.status.idle": "2021-07-21T17:37:29.607136Z",
     "shell.execute_reply": "2021-07-21T17:37:29.606519Z",
     "shell.execute_reply.started": "2021-07-21T17:36:45.655676Z"
    },
    "papermill": {
     "duration": 0.03749,
     "end_time": "2021-07-21T17:37:29.607286",
     "exception": false,
     "start_time": "2021-07-21T17:37:29.569796",
     "status": "completed"
    },
    "tags": []
   },
   "outputs": [
    {
     "name": "stdout",
     "output_type": "stream",
     "text": [
      "<class '__main__.Book'>\n"
     ]
    }
   ],
   "source": [
    "b1 = Book(\"Pandas\", \"John Doe\", 100000)\n",
    "print(type(b1))"
   ]
  },
  {
   "cell_type": "markdown",
   "id": "1e97f29e",
   "metadata": {
    "papermill": {
     "duration": 0.027016,
     "end_time": "2021-07-21T17:37:29.661580",
     "exception": false,
     "start_time": "2021-07-21T17:37:29.634564",
     "status": "completed"
    },
    "tags": []
   },
   "source": [
    "b1 is an object that belongs to the Book class."
   ]
  },
  {
   "cell_type": "markdown",
   "id": "7c2fed52",
   "metadata": {
    "papermill": {
     "duration": 0.027392,
     "end_time": "2021-07-21T17:37:29.716431",
     "exception": false,
     "start_time": "2021-07-21T17:37:29.689039",
     "status": "completed"
    },
    "tags": []
   },
   "source": [
    "- **Defining Class Methods**\n",
    "\n",
    "For instance, we can implement a method that returns the number of pages given the fontsize. "
   ]
  },
  {
   "cell_type": "code",
   "execution_count": 18,
   "id": "bb421bc7",
   "metadata": {
    "execution": {
     "iopub.execute_input": "2021-07-21T17:37:29.777537Z",
     "iopub.status.busy": "2021-07-21T17:37:29.776855Z",
     "iopub.status.idle": "2021-07-21T17:37:29.779509Z",
     "shell.execute_reply": "2021-07-21T17:37:29.780013Z",
     "shell.execute_reply.started": "2021-07-21T17:36:45.670301Z"
    },
    "papermill": {
     "duration": 0.036477,
     "end_time": "2021-07-21T17:37:29.780182",
     "exception": false,
     "start_time": "2021-07-21T17:37:29.743705",
     "status": "completed"
    },
    "tags": []
   },
   "outputs": [],
   "source": [
    "def number_of_pages(self, fontsize=12):\n",
    "    word_length = self.word_length\n",
    "    if fontsize == 12:\n",
    "        words_in_page = 300\n",
    "    else:\n",
    "        words_in_page = 300 - (fontsize - 12) * 10\n",
    "        \n",
    "    return round(word_length / words_in_page)"
   ]
  },
  {
   "cell_type": "markdown",
   "id": "18735864",
   "metadata": {
    "papermill": {
     "duration": 0.027393,
     "end_time": "2021-07-21T17:37:29.837077",
     "exception": false,
     "start_time": "2021-07-21T17:37:29.809684",
     "status": "completed"
    },
    "tags": []
   },
   "source": [
    "If a function we declare inside a class definition needs to access data attributes of an instance, we need to tell the function how to access them. \n",
    "\n",
    "This is what we did in the first line of the number_of_pages function."
   ]
  }
 ],
 "metadata": {
  "kernelspec": {
   "display_name": "Python 3",
   "language": "python",
   "name": "python3"
  },
  "language_info": {
   "codemirror_mode": {
    "name": "ipython",
    "version": 3
   },
   "file_extension": ".py",
   "mimetype": "text/x-python",
   "name": "python",
   "nbconvert_exporter": "python",
   "pygments_lexer": "ipython3",
   "version": "3.7.10"
  },
  "papermill": {
   "default_parameters": {},
   "duration": 11.867098,
   "end_time": "2021-07-21T17:37:30.676599",
   "environment_variables": {},
   "exception": null,
   "input_path": "__notebook__.ipynb",
   "output_path": "__notebook__.ipynb",
   "parameters": {},
   "start_time": "2021-07-21T17:37:18.809501",
   "version": "2.3.3"
  }
 },
 "nbformat": 4,
 "nbformat_minor": 5
}
